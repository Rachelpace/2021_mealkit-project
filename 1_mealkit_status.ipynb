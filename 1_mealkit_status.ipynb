{
 "cells": [
  {
   "cell_type": "code",
   "execution_count": 8,
   "metadata": {
    "scrolled": true
   },
   "outputs": [],
   "source": [
    "import pandas as pd\n",
    "df = pd.read_csv('./rawdata.csv', header = 0, encoding='cp949',low_memory=False)\n",
    "#csv파일에 한글이 포함되면 encoidng을 'cp949' 또는 'ms949'로 설정함\n",
    "#대용량의 데이터를 불러올 때 데이터 타입 추측이 많은 메모리를 사용하므로 이를 false로 설정"
   ]
  },
  {
   "cell_type": "code",
   "execution_count": 9,
   "metadata": {},
   "outputs": [
    {
     "name": "stdout",
     "output_type": "stream",
     "text": [
      "<class 'pandas.core.frame.DataFrame'>\n",
      "RangeIndex: 107951 entries, 0 to 107950\n",
      "Data columns (total 44 columns):\n",
      " #   Column     Non-Null Count   Dtype  \n",
      "---  ------     --------------   -----  \n",
      " 0   개방자치단체코드   107951 non-null  int64  \n",
      " 1   관리번호       107951 non-null  object \n",
      " 2   인허가일자      107948 non-null  float64\n",
      " 3   인허가취소일자    0 non-null       float64\n",
      " 4   영업상태코드     107951 non-null  int64  \n",
      " 5   영업상태명      107951 non-null  object \n",
      " 6   상세영업상태코드   107951 non-null  int64  \n",
      " 7   상세영업상태명    107951 non-null  object \n",
      " 8   폐업일자       92467 non-null   float64\n",
      " 9   휴업시작일자     0 non-null       float64\n",
      " 10  휴업종료일자     0 non-null       float64\n",
      " 11  재개업일자      0 non-null       float64\n",
      " 12  전화번호       50009 non-null   object \n",
      " 13  소재지면적      63809 non-null   float64\n",
      " 14  소재지우편번호    107278 non-null  float64\n",
      " 15  지번주소       107289 non-null  object \n",
      " 16  도로명주소      76296 non-null   object \n",
      " 17  도로명우편번호    75769 non-null   float64\n",
      " 18  사업장명       107951 non-null  object \n",
      " 19  최종수정일자     107951 non-null  float64\n",
      " 20  데이터갱신구분    107951 non-null  object \n",
      " 21  데이터갱신일자    107951 non-null  object \n",
      " 22  업태구분명      107495 non-null  object \n",
      " 23  좌표정보(X)    104945 non-null  float64\n",
      " 24  좌표정보(Y)    104945 non-null  float64\n",
      " 25  위생업태명      89889 non-null   object \n",
      " 26  남성종사자수     6848 non-null    float64\n",
      " 27  여성종사자수     6394 non-null    float64\n",
      " 28  영업장주변구분명   10378 non-null   object \n",
      " 29  등급구분명      10378 non-null   object \n",
      " 30  급수시설구분명    15214 non-null   object \n",
      " 31  총인원        0 non-null       float64\n",
      " 32  본사종업원수     24260 non-null   float64\n",
      " 33  공장사무직종업원수  24216 non-null   float64\n",
      " 34  공장판매직종업원수  24890 non-null   float64\n",
      " 35  공장생산직종업원수  24505 non-null   float64\n",
      " 36  건물소유구분명    44395 non-null   object \n",
      " 37  보증액        9347 non-null    float64\n",
      " 38  월세액        9334 non-null    float64\n",
      " 39  다중이용업소여부   90345 non-null   object \n",
      " 40  시설총규모      90345 non-null   float64\n",
      " 41  전통업소지정번호   0 non-null       float64\n",
      " 42  전통업소주된음식   0 non-null       float64\n",
      " 43  홈페이지       1 non-null       float64\n",
      "dtypes: float64(25), int64(3), object(16)\n",
      "memory usage: 36.2+ MB\n"
     ]
    }
   ],
   "source": [
    "df.info()"
   ]
  },
  {
   "cell_type": "code",
   "execution_count": 25,
   "metadata": {},
   "outputs": [],
   "source": [
    "#.isin['담꾹',....] 명령어를 쓰니 9개 데이터만 나왔다..loc 함수로 찾으려는 행의 조건을 써줬더니 149개 업체 검색됨\n",
    "stores = df.loc[df['사업장명'].str.contains('담꾹|오늘쉐프|더팜홈쿡|식사준비|집어가|요리비책|쿡마스터|노키친|땅스')].copy()\n",
    "status = (stores['상세영업상태코드'] == 1) #폐업한 3개 매장을 제외하고 현재 영업중인 146개 매장으로만 필터링\n",
    "openshops = stores[status]"
   ]
  },
  {
   "cell_type": "markdown",
   "metadata": {},
   "source": [
    "추출할 데이터\n",
    "인허가일자, 상세영업상태코드, 도로명주소, 도로명우편번호, 사업장명, 좌표정보(X), 좌표정보(Y)"
   ]
  },
  {
   "cell_type": "code",
   "execution_count": 28,
   "metadata": {},
   "outputs": [],
   "source": [
    "shopdata = openshops[['인허가일자', '상세영업상태코드', '도로명주소', '도로명우편번호', '사업장명', '좌표정보(X)', '좌표정보(Y)']].copy()\n",
    "shopdata.to_csv('./shopdata.csv',encoding='cp949') # 저장된 파일에 고유 row 번호가 나오는 것을 원하지 않아서 "
   ]
  },
  {
   "cell_type": "code",
   "execution_count": null,
   "metadata": {},
   "outputs": [],
   "source": []
  }
 ],
 "metadata": {
  "kernelspec": {
   "display_name": "Python 3",
   "language": "python",
   "name": "python3"
  },
  "language_info": {
   "codemirror_mode": {
    "name": "ipython",
    "version": 3
   },
   "file_extension": ".py",
   "mimetype": "text/x-python",
   "name": "python",
   "nbconvert_exporter": "python",
   "pygments_lexer": "ipython3",
   "version": "3.8.5"
  }
 },
 "nbformat": 4,
 "nbformat_minor": 4
}
